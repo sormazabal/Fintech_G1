{
 "cells": [
  {
   "cell_type": "code",
   "execution_count": 24,
   "metadata": {},
   "outputs": [],
   "source": [
    "import pandas as pd\n",
    "import numpy as np\n",
    "import matplotlib.pyplot as plt\n",
    "import seaborn as sns\n",
    "import plotly as px\n",
    "import torch\n",
    "%matplotlib inline"
   ]
  },
  {
   "cell_type": "code",
   "execution_count": 2,
   "metadata": {},
   "outputs": [],
   "source": [
    "from textblob import TextBlob"
   ]
  },
  {
   "cell_type": "markdown",
   "metadata": {},
   "source": [
    "# Import DFs"
   ]
  },
  {
   "cell_type": "code",
   "execution_count": 3,
   "metadata": {},
   "outputs": [],
   "source": [
    "train_df = pd.read_csv(\"drugsComTrain_raw.csv\")"
   ]
  },
  {
   "cell_type": "code",
   "execution_count": 4,
   "metadata": {},
   "outputs": [],
   "source": [
    "test_df = pd.read_csv(\"drugsComTest_raw.csv\")"
   ]
  },
  {
   "cell_type": "code",
   "execution_count": 38,
   "metadata": {},
   "outputs": [],
   "source": [
    "from sklearn.model_selection import train_test_split\n",
    "val_df, test_df = train_test_split(test_df, train_size=0.5)\n"
   ]
  },
  {
   "cell_type": "code",
   "execution_count": 13,
   "metadata": {},
   "outputs": [
    {
     "data": {
      "text/html": [
       "<div>\n",
       "<style scoped>\n",
       "    .dataframe tbody tr th:only-of-type {\n",
       "        vertical-align: middle;\n",
       "    }\n",
       "\n",
       "    .dataframe tbody tr th {\n",
       "        vertical-align: top;\n",
       "    }\n",
       "\n",
       "    .dataframe thead th {\n",
       "        text-align: right;\n",
       "    }\n",
       "</style>\n",
       "<table border=\"1\" class=\"dataframe\">\n",
       "  <thead>\n",
       "    <tr style=\"text-align: right;\">\n",
       "      <th></th>\n",
       "      <th>uniqueID</th>\n",
       "      <th>drugName</th>\n",
       "      <th>condition</th>\n",
       "      <th>review</th>\n",
       "      <th>rating</th>\n",
       "      <th>date</th>\n",
       "      <th>usefulCount</th>\n",
       "    </tr>\n",
       "  </thead>\n",
       "  <tbody>\n",
       "    <tr>\n",
       "      <th>0</th>\n",
       "      <td>206461</td>\n",
       "      <td>Valsartan</td>\n",
       "      <td>Left Ventricular Dysfunction</td>\n",
       "      <td>\"It has no side effect, I take it in combinati...</td>\n",
       "      <td>9</td>\n",
       "      <td>20-May-12</td>\n",
       "      <td>27</td>\n",
       "    </tr>\n",
       "    <tr>\n",
       "      <th>1</th>\n",
       "      <td>95260</td>\n",
       "      <td>Guanfacine</td>\n",
       "      <td>ADHD</td>\n",
       "      <td>\"My son is halfway through his fourth week of ...</td>\n",
       "      <td>8</td>\n",
       "      <td>27-Apr-10</td>\n",
       "      <td>192</td>\n",
       "    </tr>\n",
       "    <tr>\n",
       "      <th>2</th>\n",
       "      <td>92703</td>\n",
       "      <td>Lybrel</td>\n",
       "      <td>Birth Control</td>\n",
       "      <td>\"I used to take another oral contraceptive, wh...</td>\n",
       "      <td>5</td>\n",
       "      <td>14-Dec-09</td>\n",
       "      <td>17</td>\n",
       "    </tr>\n",
       "    <tr>\n",
       "      <th>3</th>\n",
       "      <td>138000</td>\n",
       "      <td>Ortho Evra</td>\n",
       "      <td>Birth Control</td>\n",
       "      <td>\"This is my first time using any form of birth...</td>\n",
       "      <td>8</td>\n",
       "      <td>3-Nov-15</td>\n",
       "      <td>10</td>\n",
       "    </tr>\n",
       "    <tr>\n",
       "      <th>4</th>\n",
       "      <td>35696</td>\n",
       "      <td>Buprenorphine / naloxone</td>\n",
       "      <td>Opiate Dependence</td>\n",
       "      <td>\"Suboxone has completely turned my life around...</td>\n",
       "      <td>9</td>\n",
       "      <td>27-Nov-16</td>\n",
       "      <td>37</td>\n",
       "    </tr>\n",
       "  </tbody>\n",
       "</table>\n",
       "</div>"
      ],
      "text/plain": [
       "   uniqueID                  drugName                     condition  \\\n",
       "0    206461                 Valsartan  Left Ventricular Dysfunction   \n",
       "1     95260                Guanfacine                          ADHD   \n",
       "2     92703                    Lybrel                 Birth Control   \n",
       "3    138000                Ortho Evra                 Birth Control   \n",
       "4     35696  Buprenorphine / naloxone             Opiate Dependence   \n",
       "\n",
       "                                              review  rating       date  \\\n",
       "0  \"It has no side effect, I take it in combinati...       9  20-May-12   \n",
       "1  \"My son is halfway through his fourth week of ...       8  27-Apr-10   \n",
       "2  \"I used to take another oral contraceptive, wh...       5  14-Dec-09   \n",
       "3  \"This is my first time using any form of birth...       8   3-Nov-15   \n",
       "4  \"Suboxone has completely turned my life around...       9  27-Nov-16   \n",
       "\n",
       "   usefulCount  \n",
       "0           27  \n",
       "1          192  \n",
       "2           17  \n",
       "3           10  \n",
       "4           37  "
      ]
     },
     "execution_count": 13,
     "metadata": {},
     "output_type": "execute_result"
    }
   ],
   "source": [
    "train_df.head()"
   ]
  },
  {
   "cell_type": "markdown",
   "metadata": {},
   "source": [
    "EDA to check out the distributions of ratings and missing values based on: \n",
    "https://www.kaggle.com/code/shubhamgadekar/complete-drug-review-analytics\n"
   ]
  },
  {
   "cell_type": "code",
   "execution_count": 14,
   "metadata": {},
   "outputs": [
    {
     "data": {
      "text/plain": [
       "uniqueID         0\n",
       "drugName         0\n",
       "condition      899\n",
       "review           0\n",
       "rating           0\n",
       "date             0\n",
       "usefulCount      0\n",
       "dtype: int64"
      ]
     },
     "execution_count": 14,
     "metadata": {},
     "output_type": "execute_result"
    }
   ],
   "source": [
    "# Find missing values train\n",
    "train_df.isnull().sum()\n",
    "\n",
    "#must fix the missing conditions"
   ]
  },
  {
   "cell_type": "code",
   "execution_count": 15,
   "metadata": {},
   "outputs": [
    {
     "data": {
      "text/html": [
       "<div>\n",
       "<style scoped>\n",
       "    .dataframe tbody tr th:only-of-type {\n",
       "        vertical-align: middle;\n",
       "    }\n",
       "\n",
       "    .dataframe tbody tr th {\n",
       "        vertical-align: top;\n",
       "    }\n",
       "\n",
       "    .dataframe thead th {\n",
       "        text-align: right;\n",
       "    }\n",
       "</style>\n",
       "<table border=\"1\" class=\"dataframe\">\n",
       "  <thead>\n",
       "    <tr style=\"text-align: right;\">\n",
       "      <th></th>\n",
       "      <th>count</th>\n",
       "      <th>mean</th>\n",
       "      <th>std</th>\n",
       "      <th>min</th>\n",
       "      <th>25%</th>\n",
       "      <th>50%</th>\n",
       "      <th>75%</th>\n",
       "      <th>max</th>\n",
       "    </tr>\n",
       "  </thead>\n",
       "  <tbody>\n",
       "    <tr>\n",
       "      <th>uniqueID</th>\n",
       "      <td>161297.0</td>\n",
       "      <td>115923.585305</td>\n",
       "      <td>67004.445170</td>\n",
       "      <td>2.0</td>\n",
       "      <td>58063.0</td>\n",
       "      <td>115744.0</td>\n",
       "      <td>173776.0</td>\n",
       "      <td>232291.0</td>\n",
       "    </tr>\n",
       "    <tr>\n",
       "      <th>rating</th>\n",
       "      <td>161297.0</td>\n",
       "      <td>6.994377</td>\n",
       "      <td>3.272329</td>\n",
       "      <td>1.0</td>\n",
       "      <td>5.0</td>\n",
       "      <td>8.0</td>\n",
       "      <td>10.0</td>\n",
       "      <td>10.0</td>\n",
       "    </tr>\n",
       "    <tr>\n",
       "      <th>usefulCount</th>\n",
       "      <td>161297.0</td>\n",
       "      <td>28.004755</td>\n",
       "      <td>36.403742</td>\n",
       "      <td>0.0</td>\n",
       "      <td>6.0</td>\n",
       "      <td>16.0</td>\n",
       "      <td>36.0</td>\n",
       "      <td>1291.0</td>\n",
       "    </tr>\n",
       "  </tbody>\n",
       "</table>\n",
       "</div>"
      ],
      "text/plain": [
       "                count           mean           std  min      25%       50%  \\\n",
       "uniqueID     161297.0  115923.585305  67004.445170  2.0  58063.0  115744.0   \n",
       "rating       161297.0       6.994377      3.272329  1.0      5.0       8.0   \n",
       "usefulCount  161297.0      28.004755     36.403742  0.0      6.0      16.0   \n",
       "\n",
       "                  75%       max  \n",
       "uniqueID     173776.0  232291.0  \n",
       "rating           10.0      10.0  \n",
       "usefulCount      36.0    1291.0  "
      ]
     },
     "execution_count": 15,
     "metadata": {},
     "output_type": "execute_result"
    }
   ],
   "source": [
    "train_df.describe().T"
   ]
  },
  {
   "cell_type": "code",
   "execution_count": 16,
   "metadata": {},
   "outputs": [
    {
     "name": "stdout",
     "output_type": "stream",
     "text": [
      "<class 'pandas.core.frame.DataFrame'>\n",
      "RangeIndex: 161297 entries, 0 to 161296\n",
      "Data columns (total 7 columns):\n",
      " #   Column       Non-Null Count   Dtype \n",
      "---  ------       --------------   ----- \n",
      " 0   uniqueID     161297 non-null  int64 \n",
      " 1   drugName     161297 non-null  object\n",
      " 2   condition    160398 non-null  object\n",
      " 3   review       161297 non-null  object\n",
      " 4   rating       161297 non-null  int64 \n",
      " 5   date         161297 non-null  object\n",
      " 6   usefulCount  161297 non-null  int64 \n",
      "dtypes: int64(3), object(4)\n",
      "memory usage: 8.6+ MB\n",
      "============================================================================================================================================\n"
     ]
    },
    {
     "data": {
      "text/plain": [
       "uniqueID        int64\n",
       "drugName       object\n",
       "condition      object\n",
       "review         object\n",
       "rating          int64\n",
       "date           object\n",
       "usefulCount     int64\n",
       "dtype: object"
      ]
     },
     "execution_count": 16,
     "metadata": {},
     "output_type": "execute_result"
    }
   ],
   "source": [
    "train_df.info()\n",
    "print('=============='*10)\n",
    "train_df.dtypes"
   ]
  },
  {
   "cell_type": "code",
   "execution_count": 6,
   "metadata": {},
   "outputs": [
    {
     "data": {
      "text/plain": [
       "<Figure size 2000x1000 with 0 Axes>"
      ]
     },
     "execution_count": 6,
     "metadata": {},
     "output_type": "execute_result"
    },
    {
     "data": {
      "text/plain": [
       "<Figure size 2000x1000 with 0 Axes>"
      ]
     },
     "metadata": {},
     "output_type": "display_data"
    }
   ],
   "source": [
    "df = train_df\n",
    "plt.figure(figsize=(20,10))\n"
   ]
  },
  {
   "cell_type": "code",
   "execution_count": 7,
   "metadata": {},
   "outputs": [
    {
     "data": {
      "image/png": "[encoded data removed]",
      "text/plain": [
       "<Figure size 640x480 with 1 Axes>"
      ]
     },
     "metadata": {},
     "output_type": "display_data"
    }
   ],
   "source": [
    "rating = dict(df.loc[df.rating == 10, \"drugName\"].value_counts())\n",
    "drugname = list(rating.keys())\n",
    "drug_rating = list(rating.values())\n",
    "\n",
    "sns_rating = sns.barplot(x = drugname[0:20], y = drug_rating[0:20], palette = 'BuPu_r')\n",
    "\n",
    "for i in sns_rating.containers:\n",
    "    sns_rating.bar_label(i,)\n",
    "\n",
    "sns_rating.set_title('Top 20 drugs with 10/10 rating', fontsize=20)\n",
    "sns_rating.set_ylabel(\"Number of Ratings\")\n",
    "sns_rating.set_xlabel(\"Drug Names\")\n",
    "plt.setp(sns_rating.get_xticklabels(), rotation=90)\n",
    "plt.show()\n"
   ]
  },
  {
   "cell_type": "code",
   "execution_count": 9,
   "metadata": {},
   "outputs": [
    {
     "data": {
      "image/png": "[encoded data removed]",
      "text/plain": [
       "<Figure size 1000x500 with 1 Axes>"
      ]
     },
     "metadata": {},
     "output_type": "display_data"
    }
   ],
   "source": [
    "# Top 20 Drugs (Most Popular)\n",
    "plt.figure(figsize=(10,5))\n",
    "df['drugName'].value_counts().nlargest(20).plot(kind='bar')\n",
    "plt.title(\"Top 20 Most popular drugs based on counts\")\n",
    "plt.show()"
   ]
  },
  {
   "cell_type": "code",
   "execution_count": 10,
   "metadata": {},
   "outputs": [
    {
     "data": {
      "text/plain": [
       "Birth Control                                              28788\n",
       "Depression                                                  9069\n",
       "Pain                                                        6145\n",
       "Anxiety                                                     5904\n",
       "Acne                                                        5588\n",
       "                                                           ...  \n",
       "Dissociative Identity Disorde                                  1\n",
       "Hydrocephalus                                                  1\n",
       "Hyperlipoproteinemia Type III, Elevated beta-VLDL   IDL        1\n",
       "Q Feve                                                         1\n",
       "Neutropenia                                                    1\n",
       "Name: condition, Length: 884, dtype: int64"
      ]
     },
     "execution_count": 10,
     "metadata": {},
     "output_type": "execute_result"
    }
   ],
   "source": [
    "df['condition'].value_counts()\n"
   ]
  },
  {
   "cell_type": "code",
   "execution_count": 11,
   "metadata": {},
   "outputs": [
    {
     "data": {
      "text/plain": [
       "Meningococcal Meningitis Prophylaxis                     1\n",
       "mist (                                                   1\n",
       "Cluster-Tic Syndrome                                     1\n",
       "Syringomyelia                                            1\n",
       "Gestational Diabetes                                     1\n",
       "Aspergillosis, Aspergilloma                              1\n",
       "Pseudogout, Prophylaxis                                  1\n",
       "Portal Hypertension                                      1\n",
       "Reversal of Nondepolarizing Muscle Relaxants             1\n",
       "47</span> users found this comment helpful.              1\n",
       "Short Stature for Age                                    1\n",
       "Neurotic Depression                                      1\n",
       "Cerebral Edema                                           1\n",
       "me                                                       1\n",
       "Hyperuricemia Secondary to Chemotherapy                  1\n",
       "Prevention of Perinatal Group B Streptococcal Disease    1\n",
       "Small Bowel or Pancreatic Fistula                        1\n",
       "Pemphigoid                                               1\n",
       "Keratitis                                                1\n",
       "123</span> users found this comment helpful.             1\n",
       "Name: condition, dtype: int64"
      ]
     },
     "execution_count": 11,
     "metadata": {},
     "output_type": "execute_result"
    }
   ],
   "source": [
    "df['condition'].value_counts().nsmallest(20)"
   ]
  },
  {
   "cell_type": "code",
   "execution_count": 13,
   "metadata": {},
   "outputs": [
    {
     "data": {
      "text/plain": [
       "condition\n",
       "Not Listed / Othe                             214\n",
       "Pain                                          200\n",
       "Birth Control                                 172\n",
       "High Blood Pressure                           140\n",
       "Acne                                          117\n",
       "Depression                                    105\n",
       "Rheumatoid Arthritis                           98\n",
       "Diabetes, Type 2                               89\n",
       "Allergic Rhinitis                              88\n",
       "Bipolar Disorde                                80\n",
       "Osteoarthritis                                 80\n",
       "Anxiety                                        78\n",
       "Insomnia                                       78\n",
       "Abnormal Uterine Bleeding                      74\n",
       "Migraine                                       59\n",
       "Psoriasis                                      58\n",
       "3</span> users found this comment helpful.     57\n",
       "Endometriosis                                  57\n",
       "ADHD                                           55\n",
       "Asthma, Maintenance                            54\n",
       "Name: drugName, dtype: int64"
      ]
     },
     "execution_count": 13,
     "metadata": {},
     "output_type": "execute_result"
    }
   ],
   "source": [
    "drug_per_cond = df.groupby('condition')['drugName'].nunique().nlargest(20)\n",
    "drug_per_cond\n",
    "\n"
   ]
  },
  {
   "cell_type": "code",
   "execution_count": 16,
   "metadata": {},
   "outputs": [
    {
     "data": {
      "text/plain": [
       "drugName\n",
       "A + D Cracked Skin Relief               10.000000\n",
       "A / B Otic                              10.000000\n",
       "Abacavir / dolutegravir / lamivudine     8.211538\n",
       "Abacavir / lamivudine / zidovudine       9.000000\n",
       "Abatacept                                7.157895\n",
       "                                          ...    \n",
       "Zyvox                                    9.000000\n",
       "ZzzQuil                                  2.500000\n",
       "depo-subQ provera 104                    1.000000\n",
       "ella                                     6.980392\n",
       "femhrt                                   4.000000\n",
       "Name: rating, Length: 3436, dtype: float64"
      ]
     },
     "execution_count": 16,
     "metadata": {},
     "output_type": "execute_result"
    }
   ],
   "source": [
    "avg_rating = (df['rating'].groupby(df['drugName']).mean())\n",
    "avg_rating"
   ]
  },
  {
   "cell_type": "code",
   "execution_count": 17,
   "metadata": {},
   "outputs": [
    {
     "data": {
      "image/png": "[encoded data removed]",
      "text/plain": [
       "<Figure size 1000x500 with 1 Axes>"
      ]
     },
     "metadata": {},
     "output_type": "display_data"
    }
   ],
   "source": [
    "\n",
    "\n",
    "# Average Rating For All Drugs\n",
    "plt.figure(figsize=(10,5))\n",
    "avg_rating.hist()\n",
    "plt.title(\"Distrubtion of Average Rating For All Drugs\", fontsize=20)\n",
    "plt.show()\n",
    "#Most reviews are positive\n",
    "\n"
   ]
  },
  {
   "cell_type": "markdown",
   "metadata": {},
   "source": [
    "# Sentiment analysis of reviews"
   ]
  },
  {
   "cell_type": "markdown",
   "metadata": {},
   "source": [
    "For this I used the library Textblob, which is based on NLTK, but it is faster and easier to use for quick analysis because you can skip the tokenizing and stop word removal. We could also use Vader separately.\n",
    "The documentation for the polarity and subjectivity functions can be found in: https://textblob.readthedocs.io/en/dev/quickstart.html"
   ]
  },
  {
   "cell_type": "code",
   "execution_count": 28,
   "metadata": {},
   "outputs": [],
   "source": [
    "def get_polarity(text):\n",
    "    blob = TextBlob(text)\n",
    "    return blob.sentiment.polarity\n",
    "\n",
    "def get_subjectivity(text):\n",
    "    blob = TextBlob(text)\n",
    "    return blob.sentiment.subjectivity\n",
    "\n",
    "\n",
    "\n",
    "def get_polarity_label(value):\n",
    "    pol = value\n",
    "    if pol > 0:\n",
    "        result = 'positive'\n",
    "    elif pol < 0:\n",
    "        result = 'negative'\n",
    "    else:\n",
    "        result = 'neutral'\n",
    "    return result\n",
    "\n",
    "def get_polarity_label_torch(value):\n",
    "    pol = value\n",
    "    if pol > 0:\n",
    "        result = 0\n",
    "    elif pol < 0:\n",
    "        result = 1\n",
    "    else:\n",
    "        result = 2\n",
    "    return result\n",
    "\n",
    "def get_subjectivity_label(value):\n",
    "    sub = value\n",
    "    if sub >  0.66:\n",
    "        result = 'subjective'\n",
    "    elif sub < 0.33:\n",
    "        result = 'objective'\n",
    "    else:\n",
    "        result = 'neutral'\n",
    "    return result\n",
    "\n",
    "    #0.0 is very objective and 1.0 is very subjective."
   ]
  },
  {
   "cell_type": "markdown",
   "metadata": {},
   "source": [
    "Polarity goes from [-1,1] and refers to the negative or positive sentiment of the text, it also takes into account exclamation marks, emojis and other meta verbal data.\n",
    "Amount of personal opinion contrasted by objective information in the text. Think of it as opinions vs facts. Goes from [0,1]"
   ]
  },
  {
   "cell_type": "code",
   "execution_count": 70,
   "metadata": {},
   "outputs": [],
   "source": [
    "# Sentiment Score for Review\n",
    "def add_sent_analysis_cols(df, sett = 'train', save = True):\n",
    "    df['sentiment'] = df['review'].apply(get_polarity)\n",
    "    df['subjectivity'] = df['review'].apply(get_subjectivity)\n",
    "    df['sentiment_label'] = df['sentiment'].apply(get_polarity_label)\n",
    "    df['subjectivity_label'] = df['subjectivity'].apply(get_subjectivity_label)\n",
    "    df['sl_torch'] = df['sentiment'].apply(get_polarity_label_torch)\n",
    "    if save:\n",
    "        df.to_csv(sett +'_withSA.csv') #You can comment this line if necessary\n",
    "    return df"
   ]
  },
  {
   "cell_type": "code",
   "execution_count": 42,
   "metadata": {},
   "outputs": [],
   "source": [
    "train_df = add_sent_analysis_cols(train_df )"
   ]
  },
  {
   "cell_type": "code",
   "execution_count": 71,
   "metadata": {},
   "outputs": [],
   "source": [
    "val_df = add_sent_analysis_cols(val_df, sett= 'val', save=True)"
   ]
  },
  {
   "cell_type": "code",
   "execution_count": 144,
   "metadata": {},
   "outputs": [],
   "source": [
    "train_df = pd.read_csv('train_withSA.csv',index_col=False )"
   ]
  },
  {
   "cell_type": "code",
   "execution_count": 142,
   "metadata": {},
   "outputs": [
    {
     "data": {
      "text/html": [
       "<div>\n",
       "<style scoped>\n",
       "    .dataframe tbody tr th:only-of-type {\n",
       "        vertical-align: middle;\n",
       "    }\n",
       "\n",
       "    .dataframe tbody tr th {\n",
       "        vertical-align: top;\n",
       "    }\n",
       "\n",
       "    .dataframe thead th {\n",
       "        text-align: right;\n",
       "    }\n",
       "</style>\n",
       "<table border=\"1\" class=\"dataframe\">\n",
       "  <thead>\n",
       "    <tr style=\"text-align: right;\">\n",
       "      <th></th>\n",
       "      <th>Unnamed: 0.1</th>\n",
       "      <th>Unnamed: 0</th>\n",
       "      <th>uniqueID</th>\n",
       "      <th>drugName</th>\n",
       "      <th>condition</th>\n",
       "      <th>review</th>\n",
       "      <th>rating</th>\n",
       "      <th>date</th>\n",
       "      <th>usefulCount</th>\n",
       "      <th>sentiment</th>\n",
       "      <th>sentiment_label</th>\n",
       "      <th>subjectivity</th>\n",
       "      <th>subjectivity_label</th>\n",
       "      <th>sl_torch</th>\n",
       "    </tr>\n",
       "  </thead>\n",
       "  <tbody>\n",
       "    <tr>\n",
       "      <th>0</th>\n",
       "      <td>0</td>\n",
       "      <td>0</td>\n",
       "      <td>206461</td>\n",
       "      <td>Valsartan</td>\n",
       "      <td>Left Ventricular Dysfunction</td>\n",
       "      <td>\"It has no side effect, I take it in combinati...</td>\n",
       "      <td>9</td>\n",
       "      <td>20-May-12</td>\n",
       "      <td>27</td>\n",
       "      <td>0.000000</td>\n",
       "      <td>neutral</td>\n",
       "      <td>0.000000</td>\n",
       "      <td>objective</td>\n",
       "      <td>2</td>\n",
       "    </tr>\n",
       "    <tr>\n",
       "      <th>1</th>\n",
       "      <td>1</td>\n",
       "      <td>1</td>\n",
       "      <td>95260</td>\n",
       "      <td>Guanfacine</td>\n",
       "      <td>ADHD</td>\n",
       "      <td>\"My son is halfway through his fourth week of ...</td>\n",
       "      <td>8</td>\n",
       "      <td>27-Apr-10</td>\n",
       "      <td>192</td>\n",
       "      <td>0.168333</td>\n",
       "      <td>positive</td>\n",
       "      <td>0.431349</td>\n",
       "      <td>neutral</td>\n",
       "      <td>0</td>\n",
       "    </tr>\n",
       "    <tr>\n",
       "      <th>2</th>\n",
       "      <td>2</td>\n",
       "      <td>2</td>\n",
       "      <td>92703</td>\n",
       "      <td>Lybrel</td>\n",
       "      <td>Birth Control</td>\n",
       "      <td>\"I used to take another oral contraceptive, wh...</td>\n",
       "      <td>5</td>\n",
       "      <td>14-Dec-09</td>\n",
       "      <td>17</td>\n",
       "      <td>0.067210</td>\n",
       "      <td>positive</td>\n",
       "      <td>0.402155</td>\n",
       "      <td>neutral</td>\n",
       "      <td>0</td>\n",
       "    </tr>\n",
       "    <tr>\n",
       "      <th>3</th>\n",
       "      <td>3</td>\n",
       "      <td>3</td>\n",
       "      <td>138000</td>\n",
       "      <td>Ortho Evra</td>\n",
       "      <td>Birth Control</td>\n",
       "      <td>\"This is my first time using any form of birth...</td>\n",
       "      <td>8</td>\n",
       "      <td>3-Nov-15</td>\n",
       "      <td>10</td>\n",
       "      <td>0.179545</td>\n",
       "      <td>positive</td>\n",
       "      <td>0.665909</td>\n",
       "      <td>subjective</td>\n",
       "      <td>0</td>\n",
       "    </tr>\n",
       "    <tr>\n",
       "      <th>4</th>\n",
       "      <td>4</td>\n",
       "      <td>4</td>\n",
       "      <td>35696</td>\n",
       "      <td>Buprenorphine / naloxone</td>\n",
       "      <td>Opiate Dependence</td>\n",
       "      <td>\"Suboxone has completely turned my life around...</td>\n",
       "      <td>9</td>\n",
       "      <td>27-Nov-16</td>\n",
       "      <td>37</td>\n",
       "      <td>0.194444</td>\n",
       "      <td>positive</td>\n",
       "      <td>0.401389</td>\n",
       "      <td>neutral</td>\n",
       "      <td>0</td>\n",
       "    </tr>\n",
       "  </tbody>\n",
       "</table>\n",
       "</div>"
      ],
      "text/plain": [
       "   Unnamed: 0.1  Unnamed: 0  uniqueID                  drugName  \\\n",
       "0             0           0    206461                 Valsartan   \n",
       "1             1           1     95260                Guanfacine   \n",
       "2             2           2     92703                    Lybrel   \n",
       "3             3           3    138000                Ortho Evra   \n",
       "4             4           4     35696  Buprenorphine / naloxone   \n",
       "\n",
       "                      condition  \\\n",
       "0  Left Ventricular Dysfunction   \n",
       "1                          ADHD   \n",
       "2                 Birth Control   \n",
       "3                 Birth Control   \n",
       "4             Opiate Dependence   \n",
       "\n",
       "                                              review  rating       date  \\\n",
       "0  \"It has no side effect, I take it in combinati...       9  20-May-12   \n",
       "1  \"My son is halfway through his fourth week of ...       8  27-Apr-10   \n",
       "2  \"I used to take another oral contraceptive, wh...       5  14-Dec-09   \n",
       "3  \"This is my first time using any form of birth...       8   3-Nov-15   \n",
       "4  \"Suboxone has completely turned my life around...       9  27-Nov-16   \n",
       "\n",
       "   usefulCount  sentiment sentiment_label  subjectivity subjectivity_label  \\\n",
       "0           27   0.000000         neutral      0.000000          objective   \n",
       "1          192   0.168333        positive      0.431349            neutral   \n",
       "2           17   0.067210        positive      0.402155            neutral   \n",
       "3           10   0.179545        positive      0.665909         subjective   \n",
       "4           37   0.194444        positive      0.401389            neutral   \n",
       "\n",
       "   sl_torch  \n",
       "0         2  \n",
       "1         0  \n",
       "2         0  \n",
       "3         0  \n",
       "4         0  "
      ]
     },
     "execution_count": 142,
     "metadata": {},
     "output_type": "execute_result"
    }
   ],
   "source": [
    "train_df.head()"
   ]
  },
  {
   "cell_type": "code",
   "execution_count": 73,
   "metadata": {},
   "outputs": [
    {
     "data": {
      "text/html": [
       "<div>\n",
       "<style scoped>\n",
       "    .dataframe tbody tr th:only-of-type {\n",
       "        vertical-align: middle;\n",
       "    }\n",
       "\n",
       "    .dataframe tbody tr th {\n",
       "        vertical-align: top;\n",
       "    }\n",
       "\n",
       "    .dataframe thead th {\n",
       "        text-align: right;\n",
       "    }\n",
       "</style>\n",
       "<table border=\"1\" class=\"dataframe\">\n",
       "  <thead>\n",
       "    <tr style=\"text-align: right;\">\n",
       "      <th></th>\n",
       "      <th>uniqueID</th>\n",
       "      <th>drugName</th>\n",
       "      <th>condition</th>\n",
       "      <th>review</th>\n",
       "      <th>rating</th>\n",
       "      <th>date</th>\n",
       "      <th>usefulCount</th>\n",
       "      <th>sentiment</th>\n",
       "      <th>subjectivity</th>\n",
       "      <th>sentiment_label</th>\n",
       "      <th>subjectivity_label</th>\n",
       "      <th>sl_torch</th>\n",
       "    </tr>\n",
       "  </thead>\n",
       "  <tbody>\n",
       "    <tr>\n",
       "      <th>8624</th>\n",
       "      <td>160175</td>\n",
       "      <td>Buspirone</td>\n",
       "      <td>Anxiety</td>\n",
       "      <td>\"I have been on Buspar for about 2 months now ...</td>\n",
       "      <td>3</td>\n",
       "      <td>24-Jul-17</td>\n",
       "      <td>13</td>\n",
       "      <td>-0.085556</td>\n",
       "      <td>0.485556</td>\n",
       "      <td>negative</td>\n",
       "      <td>neutral</td>\n",
       "      <td>1</td>\n",
       "    </tr>\n",
       "    <tr>\n",
       "      <th>19707</th>\n",
       "      <td>65760</td>\n",
       "      <td>Propranolol</td>\n",
       "      <td>mance Anxiety</td>\n",
       "      <td>\"Wow, can I say? This drug is amazing! I had t...</td>\n",
       "      <td>10</td>\n",
       "      <td>1-Jul-16</td>\n",
       "      <td>12</td>\n",
       "      <td>0.288889</td>\n",
       "      <td>0.742593</td>\n",
       "      <td>positive</td>\n",
       "      <td>subjective</td>\n",
       "      <td>0</td>\n",
       "    </tr>\n",
       "    <tr>\n",
       "      <th>40509</th>\n",
       "      <td>135048</td>\n",
       "      <td>Chlorthalidone</td>\n",
       "      <td>Edema</td>\n",
       "      <td>\"I have tried this medication but in the spani...</td>\n",
       "      <td>10</td>\n",
       "      <td>16-Apr-09</td>\n",
       "      <td>55</td>\n",
       "      <td>0.175000</td>\n",
       "      <td>0.225000</td>\n",
       "      <td>positive</td>\n",
       "      <td>objective</td>\n",
       "      <td>0</td>\n",
       "    </tr>\n",
       "    <tr>\n",
       "      <th>35390</th>\n",
       "      <td>127504</td>\n",
       "      <td>Phentermine</td>\n",
       "      <td>Weight Loss</td>\n",
       "      <td>\"I went to my doctor because I was 128.6 kgs. ...</td>\n",
       "      <td>9</td>\n",
       "      <td>1-Sep-17</td>\n",
       "      <td>14</td>\n",
       "      <td>-0.164541</td>\n",
       "      <td>0.501616</td>\n",
       "      <td>negative</td>\n",
       "      <td>neutral</td>\n",
       "      <td>1</td>\n",
       "    </tr>\n",
       "    <tr>\n",
       "      <th>49789</th>\n",
       "      <td>87041</td>\n",
       "      <td>Latuda</td>\n",
       "      <td>Bipolar Disorde</td>\n",
       "      <td>\"sever headaches and nausea. \\r\\nAwaiting the ...</td>\n",
       "      <td>1</td>\n",
       "      <td>26-Oct-15</td>\n",
       "      <td>13</td>\n",
       "      <td>0.000000</td>\n",
       "      <td>0.000000</td>\n",
       "      <td>neutral</td>\n",
       "      <td>objective</td>\n",
       "      <td>2</td>\n",
       "    </tr>\n",
       "  </tbody>\n",
       "</table>\n",
       "</div>"
      ],
      "text/plain": [
       "       uniqueID        drugName        condition  \\\n",
       "8624     160175       Buspirone          Anxiety   \n",
       "19707     65760     Propranolol    mance Anxiety   \n",
       "40509    135048  Chlorthalidone            Edema   \n",
       "35390    127504     Phentermine      Weight Loss   \n",
       "49789     87041          Latuda  Bipolar Disorde   \n",
       "\n",
       "                                                  review  rating       date  \\\n",
       "8624   \"I have been on Buspar for about 2 months now ...       3  24-Jul-17   \n",
       "19707  \"Wow, can I say? This drug is amazing! I had t...      10   1-Jul-16   \n",
       "40509  \"I have tried this medication but in the spani...      10  16-Apr-09   \n",
       "35390  \"I went to my doctor because I was 128.6 kgs. ...       9   1-Sep-17   \n",
       "49789  \"sever headaches and nausea. \\r\\nAwaiting the ...       1  26-Oct-15   \n",
       "\n",
       "       usefulCount  sentiment  subjectivity sentiment_label  \\\n",
       "8624            13  -0.085556      0.485556        negative   \n",
       "19707           12   0.288889      0.742593        positive   \n",
       "40509           55   0.175000      0.225000        positive   \n",
       "35390           14  -0.164541      0.501616        negative   \n",
       "49789           13   0.000000      0.000000         neutral   \n",
       "\n",
       "      subjectivity_label  sl_torch  \n",
       "8624             neutral         1  \n",
       "19707         subjective         0  \n",
       "40509          objective         0  \n",
       "35390            neutral         1  \n",
       "49789          objective         2  "
      ]
     },
     "execution_count": 73,
     "metadata": {},
     "output_type": "execute_result"
    }
   ],
   "source": [
    "val_df.head()"
   ]
  },
  {
   "cell_type": "markdown",
   "metadata": {},
   "source": [
    "# BERT for SA"
   ]
  },
  {
   "cell_type": "code",
   "execution_count": 44,
   "metadata": {},
   "outputs": [],
   "source": [
    "from transformers import BertTokenizer\n",
    "tokenizer = BertTokenizer.from_pretrained('bert-base-uncased', do_lower_case=True)\n",
    "#Bert base: 12 layers of Transformer encoder, 12 attention heads, 768 hidden size, and 110M parameters."
   ]
  },
  {
   "cell_type": "code",
   "execution_count": 199,
   "metadata": {},
   "outputs": [],
   "source": [
    "def get_att_tensors(df):\n",
    "    text = df.review.values\n",
    "    encoding = tokenizer.batch_encode_plus(text, add_special_tokens=True,  truncation=True, return_token_type_ids=False, padding = True, max_length=256, return_attention_mask=True, return_tensors='pt' )\n",
    "    input_ids = encoding['input_ids']\n",
    "    attention_masks = encoding['attention_mask']\n",
    "    labels = torch.tensor(df.sl_torch.values) \n",
    "    #return np.array((input_ids, attention_masks, labels),dtype=object)\n",
    "    return input_ids, attention_masks, labels"
   ]
  },
  {
   "cell_type": "code",
   "execution_count": 193,
   "metadata": {},
   "outputs": [
    {
     "name": "stderr",
     "output_type": "stream",
     "text": [
      "/tmp/ipykernel_10727/971304037.py:7: FutureWarning: The input object of type 'Tensor' is an array-like implementing one of the corresponding protocols (`__array__`, `__array_interface__` or `__array_struct__`); but not a sequence (or 0-D). In the future, this object will be coerced as if it was first converted using `np.array(obj)`. To retain the old behaviour, you have to either modify the type 'Tensor', or assign to an empty array created with `np.empty(correct_shape, dtype=object)`.\n",
      "  return np.array((input_ids, attention_masks, labels),dtype=object)\n"
     ]
    }
   ],
   "source": [
    "temp_train = train_df[:100].apply(get_att_tensors, axis=1)\n",
    "#input_ids_train, attention_masks_train, labels_train = temp_train[0, :], temp_train[1,:], temp_train[2,:]\n"
   ]
  },
  {
   "cell_type": "code",
   "execution_count": 198,
   "metadata": {},
   "outputs": [
    {
     "data": {
      "text/plain": [
       "array([tensor([[  101,  1000,  2009,  2038,  2053,  2217,  3466,  1010,  1045,  2202,\n",
       "                 2009,  1999,  5257,  1997,  2011, 16033, 10415,  1019, 11460,  1998,\n",
       "                 3869,  3514,  1000,   102]])                                        ,\n",
       "       tensor([[1, 1, 1, 1, 1, 1, 1, 1, 1, 1, 1, 1, 1, 1, 1, 1, 1, 1, 1, 1, 1, 1, 1, 1]]),\n",
       "       tensor(2)], dtype=object)"
      ]
     },
     "execution_count": 198,
     "metadata": {},
     "output_type": "execute_result"
    }
   ],
   "source": [
    "temp_train[:][0]"
   ]
  },
  {
   "cell_type": "code",
   "execution_count": 178,
   "metadata": {},
   "outputs": [
    {
     "data": {
      "text/plain": [
       "[tensor([[  101,  1000,  2026,  2365,  2003,  8576,  2083,  2010,  2959,  2733,\n",
       "           1997, 20014, 19496,  2615,  1012,  2057,  2150,  4986,  2043,  2002,\n",
       "           2211,  2023,  2197,  2733,  1010,  2043,  2002,  2318,  2635,  1996,\n",
       "           3284, 13004,  2002,  2097,  2022,  2006,  1012,  2005,  2048,  2420,\n",
       "           1010,  2002,  2071,  6684,  2131,  2041,  1997,  2793,  1010,  2001,\n",
       "           2200, 27987,  2100,  1010,  1998,  7771,  2005,  3053,  1022,  2847,\n",
       "           2006,  1037,  3298,  2188,  2013,  2082, 10885,  1006,  2200,  5866,\n",
       "           2005,  2032,  1012,  1007,  1045,  2170,  2010,  3460,  2006,  6928,\n",
       "           2851,  1998,  2016,  2056,  2000,  6293,  2009,  2041,  1037,  2261,\n",
       "           2420,  1012,  2156,  2129,  2002,  2106,  2012,  2082,  1010,  1998,\n",
       "           2007,  2893,  2039,  1999,  1996,  2851,  1012,  1996,  2197,  2048,\n",
       "           2420,  2031,  2042,  3291,  2489,  1012,  2002,  2003,  2172,  2062,\n",
       "           5993,  3085,  2084,  2412,  1012,  2002,  2003,  2625,  6832,  1006,\n",
       "           1037,  2204,  2518,  1007,  1010,  2625, 27987,  2100,  1012,  2002,\n",
       "           2003, 10397,  2035,  1996,  2477,  2002,  2323,  1012,  3452,  2010,\n",
       "           5248,  2003,  2488,  1012,  2057,  2031,  2699,  2116,  2367, 20992,\n",
       "           1998,  2061,  2521,  2023,  2003,  1996,  2087,  4621,  1012,  1000,\n",
       "            102]]),\n",
       " tensor([[1, 1, 1, 1, 1, 1, 1, 1, 1, 1, 1, 1, 1, 1, 1, 1, 1, 1, 1, 1, 1, 1, 1, 1,\n",
       "          1, 1, 1, 1, 1, 1, 1, 1, 1, 1, 1, 1, 1, 1, 1, 1, 1, 1, 1, 1, 1, 1, 1, 1,\n",
       "          1, 1, 1, 1, 1, 1, 1, 1, 1, 1, 1, 1, 1, 1, 1, 1, 1, 1, 1, 1, 1, 1, 1, 1,\n",
       "          1, 1, 1, 1, 1, 1, 1, 1, 1, 1, 1, 1, 1, 1, 1, 1, 1, 1, 1, 1, 1, 1, 1, 1,\n",
       "          1, 1, 1, 1, 1, 1, 1, 1, 1, 1, 1, 1, 1, 1, 1, 1, 1, 1, 1, 1, 1, 1, 1, 1,\n",
       "          1, 1, 1, 1, 1, 1, 1, 1, 1, 1, 1, 1, 1, 1, 1, 1, 1, 1, 1, 1, 1, 1, 1, 1,\n",
       "          1, 1, 1, 1, 1, 1, 1, 1, 1, 1, 1, 1, 1, 1, 1, 1, 1, 1, 1, 1, 1, 1, 1, 1,\n",
       "          1, 1, 1]]),\n",
       " tensor(0)]"
      ]
     },
     "execution_count": 178,
     "metadata": {},
     "output_type": "execute_result"
    }
   ],
   "source": [
    " attention_masks_train"
   ]
  },
  {
   "cell_type": "code",
   "execution_count": 191,
   "metadata": {},
   "outputs": [
    {
     "name": "stdout",
     "output_type": "stream",
     "text": [
      "[tensor([[  101,  1000,  2009,  2038,  2053,  2217,  3466,  1010,  1045,  2202,\n",
      "          2009,  1999,  5257,  1997,  2011, 16033, 10415,  1019, 11460,  1998,\n",
      "          3869,  3514,  1000,   102]]), tensor([[1, 1, 1, 1, 1, 1, 1, 1, 1, 1, 1, 1, 1, 1, 1, 1, 1, 1, 1, 1, 1, 1, 1, 1]]), tensor(2)]\n"
     ]
    },
    {
     "ename": "AttributeError",
     "evalue": "'list' object has no attribute 'shape'",
     "output_type": "error",
     "traceback": [
      "\u001b[0;31m---------------------------------------------------------------------------\u001b[0m",
      "\u001b[0;31mAttributeError\u001b[0m                            Traceback (most recent call last)",
      "Cell \u001b[0;32mIn [191], line 2\u001b[0m\n\u001b[1;32m      1\u001b[0m \u001b[39mprint\u001b[39m(input_ids_train)\n\u001b[0;32m----> 2\u001b[0m \u001b[39mprint\u001b[39m(attention_masks_train\u001b[39m.\u001b[39;49mshape)\n\u001b[1;32m      3\u001b[0m \u001b[39mprint\u001b[39m(labels_train\u001b[39m.\u001b[39mshape)\n",
      "\u001b[0;31mAttributeError\u001b[0m: 'list' object has no attribute 'shape'"
     ]
    }
   ],
   "source": [
    "print(input_ids_train)\n",
    "print(attention_masks_train.shape)\n",
    "print(labels_train.shape)"
   ]
  },
  {
   "cell_type": "code",
   "execution_count": 200,
   "metadata": {},
   "outputs": [],
   "source": [
    "input_ids_val, attention_masks_val, labels_val = get_att_tensors(val_df)"
   ]
  },
  {
   "cell_type": "code",
   "execution_count": 202,
   "metadata": {},
   "outputs": [
    {
     "name": "stdout",
     "output_type": "stream",
     "text": [
      "torch.Size([26883, 256])\n",
      "torch.Size([26883, 256])\n",
      "torch.Size([26883])\n"
     ]
    }
   ],
   "source": [
    "print(input_ids_val.shape)\n",
    "print(attention_masks_val.shape)\n",
    "print(labels_val.shape)"
   ]
  },
  {
   "cell_type": "code",
   "execution_count": 106,
   "metadata": {},
   "outputs": [
    {
     "ename": "AssertionError",
     "evalue": "Size mismatch between tensors",
     "output_type": "error",
     "traceback": [
      "\u001b[0;31m---------------------------------------------------------------------------\u001b[0m",
      "\u001b[0;31mAssertionError\u001b[0m                            Traceback (most recent call last)",
      "Cell \u001b[0;32mIn [106], line 2\u001b[0m\n\u001b[1;32m      1\u001b[0m \u001b[39mfrom\u001b[39;00m \u001b[39mtorch\u001b[39;00m\u001b[39m.\u001b[39;00m\u001b[39mutils\u001b[39;00m\u001b[39m.\u001b[39;00m\u001b[39mdata\u001b[39;00m \u001b[39mimport\u001b[39;00m DataLoader, RandomSampler, SequentialSampler, TensorDataset\n\u001b[0;32m----> 2\u001b[0m dataset_train \u001b[39m=\u001b[39m TensorDataset( input_ids_train, attention_masks_train,  labels_train)\n",
      "File \u001b[0;32m~/anaconda3/envs/fintech/lib/python3.10/site-packages/torch/utils/data/dataset.py:257\u001b[0m, in \u001b[0;36mTensorDataset.__init__\u001b[0;34m(self, *tensors)\u001b[0m\n\u001b[1;32m    256\u001b[0m \u001b[39mdef\u001b[39;00m \u001b[39m__init__\u001b[39m(\u001b[39mself\u001b[39m, \u001b[39m*\u001b[39mtensors: Tensor) \u001b[39m-\u001b[39m\u001b[39m>\u001b[39m \u001b[39mNone\u001b[39;00m:\n\u001b[0;32m--> 257\u001b[0m     \u001b[39massert\u001b[39;00m \u001b[39mall\u001b[39m(tensors[\u001b[39m0\u001b[39m]\u001b[39m.\u001b[39msize(\u001b[39m0\u001b[39m) \u001b[39m==\u001b[39m tensor\u001b[39m.\u001b[39msize(\u001b[39m0\u001b[39m) \u001b[39mfor\u001b[39;00m tensor \u001b[39min\u001b[39;00m tensors), \u001b[39m\"\u001b[39m\u001b[39mSize mismatch between tensors\u001b[39m\u001b[39m\"\u001b[39m\n\u001b[1;32m    258\u001b[0m     \u001b[39mself\u001b[39m\u001b[39m.\u001b[39mtensors \u001b[39m=\u001b[39m tensors\n",
      "\u001b[0;31mAssertionError\u001b[0m: Size mismatch between tensors"
     ]
    }
   ],
   "source": [
    "from torch.utils.data import DataLoader, RandomSampler, SequentialSampler, TensorDataset\n",
    "dataset_train = TensorDataset( input_ids_train, attention_masks_train,  labels_train)\n"
   ]
  },
  {
   "cell_type": "code",
   "execution_count": null,
   "metadata": {},
   "outputs": [],
   "source": [
    "from transformers import BertForSequenceClassification\n",
    "model = BertForSequenceClassification.from_pretrained('bert-base-uncased', \n",
    "     num_labels=len(label_dict),\n",
    "     output_attentions=False,\n",
    "     output_hidden_states=False)\n",
    "\n"
   ]
  }
 ],
 "metadata": {
  "kernelspec": {
   "display_name": "Python 3.10.8 ('fintech')",
   "language": "python",
   "name": "python3"
  },
  "language_info": {
   "codemirror_mode": {
    "name": "ipython",
    "version": 3
   },
   "file_extension": ".py",
   "mimetype": "text/x-python",
   "name": "python",
   "nbconvert_exporter": "python",
   "pygments_lexer": "ipython3",
   "version": "3.10.8"
  },
  "orig_nbformat": 4,
  "vscode": {
   "interpreter": {
    "hash": "01d3973737998a47ca5793dcf9763148c6e5be57bec33a1ab7505ae61a66cf50"
   }
  }
 },
 "nbformat": 4,
 "nbformat_minor": 2
}
